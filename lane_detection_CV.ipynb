{
  "nbformat": 4,
  "nbformat_minor": 0,
  "metadata": {
    "colab": {
      "name": "lane_detection_CV.ipynb",
      "provenance": [],
      "collapsed_sections": []
    },
    "kernelspec": {
      "name": "python3",
      "display_name": "Python 3"
    },
    "widgets": {
      "application/vnd.jupyter.widget-state+json": {
        "0e50248cbd5c4357b8f8d571b00ab7b8": {
          "model_module": "@jupyter-widgets/controls",
          "model_name": "HBoxModel",
          "state": {
            "_view_name": "HBoxView",
            "_dom_classes": [],
            "_model_name": "HBoxModel",
            "_view_module": "@jupyter-widgets/controls",
            "_model_module_version": "1.5.0",
            "_view_count": null,
            "_view_module_version": "1.5.0",
            "box_style": "",
            "layout": "IPY_MODEL_650f2bb431954fab960c6d3029a82825",
            "_model_module": "@jupyter-widgets/controls",
            "children": [
              "IPY_MODEL_dc2955cafdc0450a908ad871601e0752",
              "IPY_MODEL_d4f0e52ae93a4ec68266c1abc06f5767"
            ]
          }
        },
        "650f2bb431954fab960c6d3029a82825": {
          "model_module": "@jupyter-widgets/base",
          "model_name": "LayoutModel",
          "state": {
            "_view_name": "LayoutView",
            "grid_template_rows": null,
            "right": null,
            "justify_content": null,
            "_view_module": "@jupyter-widgets/base",
            "overflow": null,
            "_model_module_version": "1.2.0",
            "_view_count": null,
            "flex_flow": null,
            "width": null,
            "min_width": null,
            "border": null,
            "align_items": null,
            "bottom": null,
            "_model_module": "@jupyter-widgets/base",
            "top": null,
            "grid_column": null,
            "overflow_y": null,
            "overflow_x": null,
            "grid_auto_flow": null,
            "grid_area": null,
            "grid_template_columns": null,
            "flex": null,
            "_model_name": "LayoutModel",
            "justify_items": null,
            "grid_row": null,
            "max_height": null,
            "align_content": null,
            "visibility": null,
            "align_self": null,
            "height": null,
            "min_height": null,
            "padding": null,
            "grid_auto_rows": null,
            "grid_gap": null,
            "max_width": null,
            "order": null,
            "_view_module_version": "1.2.0",
            "grid_template_areas": null,
            "object_position": null,
            "object_fit": null,
            "grid_auto_columns": null,
            "margin": null,
            "display": null,
            "left": null
          }
        },
        "dc2955cafdc0450a908ad871601e0752": {
          "model_module": "@jupyter-widgets/controls",
          "model_name": "FloatProgressModel",
          "state": {
            "_view_name": "ProgressView",
            "style": "IPY_MODEL_813da172901d403783d73a86ef59af47",
            "_dom_classes": [],
            "description": "100%",
            "_model_name": "FloatProgressModel",
            "bar_style": "success",
            "max": 1108,
            "_view_module": "@jupyter-widgets/controls",
            "_model_module_version": "1.5.0",
            "value": 1108,
            "_view_count": null,
            "_view_module_version": "1.5.0",
            "orientation": "horizontal",
            "min": 0,
            "description_tooltip": null,
            "_model_module": "@jupyter-widgets/controls",
            "layout": "IPY_MODEL_b73dd84d48634d7b8b39c5ab78888a3c"
          }
        },
        "d4f0e52ae93a4ec68266c1abc06f5767": {
          "model_module": "@jupyter-widgets/controls",
          "model_name": "HTMLModel",
          "state": {
            "_view_name": "HTMLView",
            "style": "IPY_MODEL_8b5b5facfc9c4f0da7910ff1533a2d84",
            "_dom_classes": [],
            "description": "",
            "_model_name": "HTMLModel",
            "placeholder": "​",
            "_view_module": "@jupyter-widgets/controls",
            "_model_module_version": "1.5.0",
            "value": " 1108/1108 [00:23&lt;00:00, 46.37it/s]",
            "_view_count": null,
            "_view_module_version": "1.5.0",
            "description_tooltip": null,
            "_model_module": "@jupyter-widgets/controls",
            "layout": "IPY_MODEL_5046603a51054539be5c26d3fe477dd1"
          }
        },
        "813da172901d403783d73a86ef59af47": {
          "model_module": "@jupyter-widgets/controls",
          "model_name": "ProgressStyleModel",
          "state": {
            "_view_name": "StyleView",
            "_model_name": "ProgressStyleModel",
            "description_width": "initial",
            "_view_module": "@jupyter-widgets/base",
            "_model_module_version": "1.5.0",
            "_view_count": null,
            "_view_module_version": "1.2.0",
            "bar_color": null,
            "_model_module": "@jupyter-widgets/controls"
          }
        },
        "b73dd84d48634d7b8b39c5ab78888a3c": {
          "model_module": "@jupyter-widgets/base",
          "model_name": "LayoutModel",
          "state": {
            "_view_name": "LayoutView",
            "grid_template_rows": null,
            "right": null,
            "justify_content": null,
            "_view_module": "@jupyter-widgets/base",
            "overflow": null,
            "_model_module_version": "1.2.0",
            "_view_count": null,
            "flex_flow": null,
            "width": null,
            "min_width": null,
            "border": null,
            "align_items": null,
            "bottom": null,
            "_model_module": "@jupyter-widgets/base",
            "top": null,
            "grid_column": null,
            "overflow_y": null,
            "overflow_x": null,
            "grid_auto_flow": null,
            "grid_area": null,
            "grid_template_columns": null,
            "flex": null,
            "_model_name": "LayoutModel",
            "justify_items": null,
            "grid_row": null,
            "max_height": null,
            "align_content": null,
            "visibility": null,
            "align_self": null,
            "height": null,
            "min_height": null,
            "padding": null,
            "grid_auto_rows": null,
            "grid_gap": null,
            "max_width": null,
            "order": null,
            "_view_module_version": "1.2.0",
            "grid_template_areas": null,
            "object_position": null,
            "object_fit": null,
            "grid_auto_columns": null,
            "margin": null,
            "display": null,
            "left": null
          }
        },
        "8b5b5facfc9c4f0da7910ff1533a2d84": {
          "model_module": "@jupyter-widgets/controls",
          "model_name": "DescriptionStyleModel",
          "state": {
            "_view_name": "StyleView",
            "_model_name": "DescriptionStyleModel",
            "description_width": "",
            "_view_module": "@jupyter-widgets/base",
            "_model_module_version": "1.5.0",
            "_view_count": null,
            "_view_module_version": "1.2.0",
            "_model_module": "@jupyter-widgets/controls"
          }
        },
        "5046603a51054539be5c26d3fe477dd1": {
          "model_module": "@jupyter-widgets/base",
          "model_name": "LayoutModel",
          "state": {
            "_view_name": "LayoutView",
            "grid_template_rows": null,
            "right": null,
            "justify_content": null,
            "_view_module": "@jupyter-widgets/base",
            "overflow": null,
            "_model_module_version": "1.2.0",
            "_view_count": null,
            "flex_flow": null,
            "width": null,
            "min_width": null,
            "border": null,
            "align_items": null,
            "bottom": null,
            "_model_module": "@jupyter-widgets/base",
            "top": null,
            "grid_column": null,
            "overflow_y": null,
            "overflow_x": null,
            "grid_auto_flow": null,
            "grid_area": null,
            "grid_template_columns": null,
            "flex": null,
            "_model_name": "LayoutModel",
            "justify_items": null,
            "grid_row": null,
            "max_height": null,
            "align_content": null,
            "visibility": null,
            "align_self": null,
            "height": null,
            "min_height": null,
            "padding": null,
            "grid_auto_rows": null,
            "grid_gap": null,
            "max_width": null,
            "order": null,
            "_view_module_version": "1.2.0",
            "grid_template_areas": null,
            "object_position": null,
            "object_fit": null,
            "grid_auto_columns": null,
            "margin": null,
            "display": null,
            "left": null
          }
        },
        "5c88b1f4013342f9a77a0b827b8afa7b": {
          "model_module": "@jupyter-widgets/controls",
          "model_name": "HBoxModel",
          "state": {
            "_view_name": "HBoxView",
            "_dom_classes": [],
            "_model_name": "HBoxModel",
            "_view_module": "@jupyter-widgets/controls",
            "_model_module_version": "1.5.0",
            "_view_count": null,
            "_view_module_version": "1.5.0",
            "box_style": "",
            "layout": "IPY_MODEL_98db36d5b91643ca989d9e2c05a873c8",
            "_model_module": "@jupyter-widgets/controls",
            "children": [
              "IPY_MODEL_1542bae9688d464b95290a56b8d66116",
              "IPY_MODEL_171fed7d34df40ce9a97c9b2e954fdc8"
            ]
          }
        },
        "98db36d5b91643ca989d9e2c05a873c8": {
          "model_module": "@jupyter-widgets/base",
          "model_name": "LayoutModel",
          "state": {
            "_view_name": "LayoutView",
            "grid_template_rows": null,
            "right": null,
            "justify_content": null,
            "_view_module": "@jupyter-widgets/base",
            "overflow": null,
            "_model_module_version": "1.2.0",
            "_view_count": null,
            "flex_flow": null,
            "width": null,
            "min_width": null,
            "border": null,
            "align_items": null,
            "bottom": null,
            "_model_module": "@jupyter-widgets/base",
            "top": null,
            "grid_column": null,
            "overflow_y": null,
            "overflow_x": null,
            "grid_auto_flow": null,
            "grid_area": null,
            "grid_template_columns": null,
            "flex": null,
            "_model_name": "LayoutModel",
            "justify_items": null,
            "grid_row": null,
            "max_height": null,
            "align_content": null,
            "visibility": null,
            "align_self": null,
            "height": null,
            "min_height": null,
            "padding": null,
            "grid_auto_rows": null,
            "grid_gap": null,
            "max_width": null,
            "order": null,
            "_view_module_version": "1.2.0",
            "grid_template_areas": null,
            "object_position": null,
            "object_fit": null,
            "grid_auto_columns": null,
            "margin": null,
            "display": null,
            "left": null
          }
        },
        "1542bae9688d464b95290a56b8d66116": {
          "model_module": "@jupyter-widgets/controls",
          "model_name": "FloatProgressModel",
          "state": {
            "_view_name": "ProgressView",
            "style": "IPY_MODEL_25a829378e95471a8ddb8f78391babc3",
            "_dom_classes": [],
            "description": "  0%",
            "_model_name": "FloatProgressModel",
            "bar_style": "danger",
            "max": 1683,
            "_view_module": "@jupyter-widgets/controls",
            "_model_module_version": "1.5.0",
            "value": 0,
            "_view_count": null,
            "_view_module_version": "1.5.0",
            "orientation": "horizontal",
            "min": 0,
            "description_tooltip": null,
            "_model_module": "@jupyter-widgets/controls",
            "layout": "IPY_MODEL_f32cfbdb0ec74081999afec512c3e89e"
          }
        },
        "171fed7d34df40ce9a97c9b2e954fdc8": {
          "model_module": "@jupyter-widgets/controls",
          "model_name": "HTMLModel",
          "state": {
            "_view_name": "HTMLView",
            "style": "IPY_MODEL_1166e0f6ba854c5e87856289ab3ba102",
            "_dom_classes": [],
            "description": "",
            "_model_name": "HTMLModel",
            "placeholder": "​",
            "_view_module": "@jupyter-widgets/controls",
            "_model_module_version": "1.5.0",
            "value": " 0/1683 [00:16&lt;?, ?it/s]",
            "_view_count": null,
            "_view_module_version": "1.5.0",
            "description_tooltip": null,
            "_model_module": "@jupyter-widgets/controls",
            "layout": "IPY_MODEL_5b72fa3dcff34d4f993d53d2cbc5ec89"
          }
        },
        "25a829378e95471a8ddb8f78391babc3": {
          "model_module": "@jupyter-widgets/controls",
          "model_name": "ProgressStyleModel",
          "state": {
            "_view_name": "StyleView",
            "_model_name": "ProgressStyleModel",
            "description_width": "initial",
            "_view_module": "@jupyter-widgets/base",
            "_model_module_version": "1.5.0",
            "_view_count": null,
            "_view_module_version": "1.2.0",
            "bar_color": null,
            "_model_module": "@jupyter-widgets/controls"
          }
        },
        "f32cfbdb0ec74081999afec512c3e89e": {
          "model_module": "@jupyter-widgets/base",
          "model_name": "LayoutModel",
          "state": {
            "_view_name": "LayoutView",
            "grid_template_rows": null,
            "right": null,
            "justify_content": null,
            "_view_module": "@jupyter-widgets/base",
            "overflow": null,
            "_model_module_version": "1.2.0",
            "_view_count": null,
            "flex_flow": null,
            "width": null,
            "min_width": null,
            "border": null,
            "align_items": null,
            "bottom": null,
            "_model_module": "@jupyter-widgets/base",
            "top": null,
            "grid_column": null,
            "overflow_y": null,
            "overflow_x": null,
            "grid_auto_flow": null,
            "grid_area": null,
            "grid_template_columns": null,
            "flex": null,
            "_model_name": "LayoutModel",
            "justify_items": null,
            "grid_row": null,
            "max_height": null,
            "align_content": null,
            "visibility": null,
            "align_self": null,
            "height": null,
            "min_height": null,
            "padding": null,
            "grid_auto_rows": null,
            "grid_gap": null,
            "max_width": null,
            "order": null,
            "_view_module_version": "1.2.0",
            "grid_template_areas": null,
            "object_position": null,
            "object_fit": null,
            "grid_auto_columns": null,
            "margin": null,
            "display": null,
            "left": null
          }
        },
        "1166e0f6ba854c5e87856289ab3ba102": {
          "model_module": "@jupyter-widgets/controls",
          "model_name": "DescriptionStyleModel",
          "state": {
            "_view_name": "StyleView",
            "_model_name": "DescriptionStyleModel",
            "description_width": "",
            "_view_module": "@jupyter-widgets/base",
            "_model_module_version": "1.5.0",
            "_view_count": null,
            "_view_module_version": "1.2.0",
            "_model_module": "@jupyter-widgets/controls"
          }
        },
        "5b72fa3dcff34d4f993d53d2cbc5ec89": {
          "model_module": "@jupyter-widgets/base",
          "model_name": "LayoutModel",
          "state": {
            "_view_name": "LayoutView",
            "grid_template_rows": null,
            "right": null,
            "justify_content": null,
            "_view_module": "@jupyter-widgets/base",
            "overflow": null,
            "_model_module_version": "1.2.0",
            "_view_count": null,
            "flex_flow": null,
            "width": null,
            "min_width": null,
            "border": null,
            "align_items": null,
            "bottom": null,
            "_model_module": "@jupyter-widgets/base",
            "top": null,
            "grid_column": null,
            "overflow_y": null,
            "overflow_x": null,
            "grid_auto_flow": null,
            "grid_area": null,
            "grid_template_columns": null,
            "flex": null,
            "_model_name": "LayoutModel",
            "justify_items": null,
            "grid_row": null,
            "max_height": null,
            "align_content": null,
            "visibility": null,
            "align_self": null,
            "height": null,
            "min_height": null,
            "padding": null,
            "grid_auto_rows": null,
            "grid_gap": null,
            "max_width": null,
            "order": null,
            "_view_module_version": "1.2.0",
            "grid_template_areas": null,
            "object_position": null,
            "object_fit": null,
            "grid_auto_columns": null,
            "margin": null,
            "display": null,
            "left": null
          }
        },
        "abeae4a723684025978cffc4de648bea": {
          "model_module": "@jupyter-widgets/controls",
          "model_name": "HBoxModel",
          "state": {
            "_view_name": "HBoxView",
            "_dom_classes": [],
            "_model_name": "HBoxModel",
            "_view_module": "@jupyter-widgets/controls",
            "_model_module_version": "1.5.0",
            "_view_count": null,
            "_view_module_version": "1.5.0",
            "box_style": "",
            "layout": "IPY_MODEL_8922b5bccf224ea78505903c7a62cbcb",
            "_model_module": "@jupyter-widgets/controls",
            "children": [
              "IPY_MODEL_3a81001e89b34e148b4b60cc7af9eeba",
              "IPY_MODEL_283224142ca347d8b57cbfdd38f0a846"
            ]
          }
        },
        "8922b5bccf224ea78505903c7a62cbcb": {
          "model_module": "@jupyter-widgets/base",
          "model_name": "LayoutModel",
          "state": {
            "_view_name": "LayoutView",
            "grid_template_rows": null,
            "right": null,
            "justify_content": null,
            "_view_module": "@jupyter-widgets/base",
            "overflow": null,
            "_model_module_version": "1.2.0",
            "_view_count": null,
            "flex_flow": null,
            "width": null,
            "min_width": null,
            "border": null,
            "align_items": null,
            "bottom": null,
            "_model_module": "@jupyter-widgets/base",
            "top": null,
            "grid_column": null,
            "overflow_y": null,
            "overflow_x": null,
            "grid_auto_flow": null,
            "grid_area": null,
            "grid_template_columns": null,
            "flex": null,
            "_model_name": "LayoutModel",
            "justify_items": null,
            "grid_row": null,
            "max_height": null,
            "align_content": null,
            "visibility": null,
            "align_self": null,
            "height": null,
            "min_height": null,
            "padding": null,
            "grid_auto_rows": null,
            "grid_gap": null,
            "max_width": null,
            "order": null,
            "_view_module_version": "1.2.0",
            "grid_template_areas": null,
            "object_position": null,
            "object_fit": null,
            "grid_auto_columns": null,
            "margin": null,
            "display": null,
            "left": null
          }
        },
        "3a81001e89b34e148b4b60cc7af9eeba": {
          "model_module": "@jupyter-widgets/controls",
          "model_name": "FloatProgressModel",
          "state": {
            "_view_name": "ProgressView",
            "style": "IPY_MODEL_64ad30382ded4ee5a34f6d98bbc4c9b7",
            "_dom_classes": [],
            "description": "100%",
            "_model_name": "FloatProgressModel",
            "bar_style": "success",
            "max": 1683,
            "_view_module": "@jupyter-widgets/controls",
            "_model_module_version": "1.5.0",
            "value": 1683,
            "_view_count": null,
            "_view_module_version": "1.5.0",
            "orientation": "horizontal",
            "min": 0,
            "description_tooltip": null,
            "_model_module": "@jupyter-widgets/controls",
            "layout": "IPY_MODEL_f52a6e5077614104ab5bdffb4f4146bc"
          }
        },
        "283224142ca347d8b57cbfdd38f0a846": {
          "model_module": "@jupyter-widgets/controls",
          "model_name": "HTMLModel",
          "state": {
            "_view_name": "HTMLView",
            "style": "IPY_MODEL_fcb4117d7864430ab7e4f569b168dc3c",
            "_dom_classes": [],
            "description": "",
            "_model_name": "HTMLModel",
            "placeholder": "​",
            "_view_module": "@jupyter-widgets/controls",
            "_model_module_version": "1.5.0",
            "value": " 1683/1683 [00:51&lt;00:00, 32.46it/s]",
            "_view_count": null,
            "_view_module_version": "1.5.0",
            "description_tooltip": null,
            "_model_module": "@jupyter-widgets/controls",
            "layout": "IPY_MODEL_744161c7cd9a4f92b61e82dafacfb136"
          }
        },
        "64ad30382ded4ee5a34f6d98bbc4c9b7": {
          "model_module": "@jupyter-widgets/controls",
          "model_name": "ProgressStyleModel",
          "state": {
            "_view_name": "StyleView",
            "_model_name": "ProgressStyleModel",
            "description_width": "initial",
            "_view_module": "@jupyter-widgets/base",
            "_model_module_version": "1.5.0",
            "_view_count": null,
            "_view_module_version": "1.2.0",
            "bar_color": null,
            "_model_module": "@jupyter-widgets/controls"
          }
        },
        "f52a6e5077614104ab5bdffb4f4146bc": {
          "model_module": "@jupyter-widgets/base",
          "model_name": "LayoutModel",
          "state": {
            "_view_name": "LayoutView",
            "grid_template_rows": null,
            "right": null,
            "justify_content": null,
            "_view_module": "@jupyter-widgets/base",
            "overflow": null,
            "_model_module_version": "1.2.0",
            "_view_count": null,
            "flex_flow": null,
            "width": null,
            "min_width": null,
            "border": null,
            "align_items": null,
            "bottom": null,
            "_model_module": "@jupyter-widgets/base",
            "top": null,
            "grid_column": null,
            "overflow_y": null,
            "overflow_x": null,
            "grid_auto_flow": null,
            "grid_area": null,
            "grid_template_columns": null,
            "flex": null,
            "_model_name": "LayoutModel",
            "justify_items": null,
            "grid_row": null,
            "max_height": null,
            "align_content": null,
            "visibility": null,
            "align_self": null,
            "height": null,
            "min_height": null,
            "padding": null,
            "grid_auto_rows": null,
            "grid_gap": null,
            "max_width": null,
            "order": null,
            "_view_module_version": "1.2.0",
            "grid_template_areas": null,
            "object_position": null,
            "object_fit": null,
            "grid_auto_columns": null,
            "margin": null,
            "display": null,
            "left": null
          }
        },
        "fcb4117d7864430ab7e4f569b168dc3c": {
          "model_module": "@jupyter-widgets/controls",
          "model_name": "DescriptionStyleModel",
          "state": {
            "_view_name": "StyleView",
            "_model_name": "DescriptionStyleModel",
            "description_width": "",
            "_view_module": "@jupyter-widgets/base",
            "_model_module_version": "1.5.0",
            "_view_count": null,
            "_view_module_version": "1.2.0",
            "_model_module": "@jupyter-widgets/controls"
          }
        },
        "744161c7cd9a4f92b61e82dafacfb136": {
          "model_module": "@jupyter-widgets/base",
          "model_name": "LayoutModel",
          "state": {
            "_view_name": "LayoutView",
            "grid_template_rows": null,
            "right": null,
            "justify_content": null,
            "_view_module": "@jupyter-widgets/base",
            "overflow": null,
            "_model_module_version": "1.2.0",
            "_view_count": null,
            "flex_flow": null,
            "width": null,
            "min_width": null,
            "border": null,
            "align_items": null,
            "bottom": null,
            "_model_module": "@jupyter-widgets/base",
            "top": null,
            "grid_column": null,
            "overflow_y": null,
            "overflow_x": null,
            "grid_auto_flow": null,
            "grid_area": null,
            "grid_template_columns": null,
            "flex": null,
            "_model_name": "LayoutModel",
            "justify_items": null,
            "grid_row": null,
            "max_height": null,
            "align_content": null,
            "visibility": null,
            "align_self": null,
            "height": null,
            "min_height": null,
            "padding": null,
            "grid_auto_rows": null,
            "grid_gap": null,
            "max_width": null,
            "order": null,
            "_view_module_version": "1.2.0",
            "grid_template_areas": null,
            "object_position": null,
            "object_fit": null,
            "grid_auto_columns": null,
            "margin": null,
            "display": null,
            "left": null
          }
        },
        "c9137bda8fd148cd853d7bcc29583da0": {
          "model_module": "@jupyter-widgets/controls",
          "model_name": "HBoxModel",
          "state": {
            "_view_name": "HBoxView",
            "_dom_classes": [],
            "_model_name": "HBoxModel",
            "_view_module": "@jupyter-widgets/controls",
            "_model_module_version": "1.5.0",
            "_view_count": null,
            "_view_module_version": "1.5.0",
            "box_style": "",
            "layout": "IPY_MODEL_76440db19a324e68af5fe72a6280887e",
            "_model_module": "@jupyter-widgets/controls",
            "children": [
              "IPY_MODEL_2ca397bbbb1148b1a46727ced3295dc3",
              "IPY_MODEL_e74b2242eb6646c3a4a1b2a7124f0406"
            ]
          }
        },
        "76440db19a324e68af5fe72a6280887e": {
          "model_module": "@jupyter-widgets/base",
          "model_name": "LayoutModel",
          "state": {
            "_view_name": "LayoutView",
            "grid_template_rows": null,
            "right": null,
            "justify_content": null,
            "_view_module": "@jupyter-widgets/base",
            "overflow": null,
            "_model_module_version": "1.2.0",
            "_view_count": null,
            "flex_flow": null,
            "width": null,
            "min_width": null,
            "border": null,
            "align_items": null,
            "bottom": null,
            "_model_module": "@jupyter-widgets/base",
            "top": null,
            "grid_column": null,
            "overflow_y": null,
            "overflow_x": null,
            "grid_auto_flow": null,
            "grid_area": null,
            "grid_template_columns": null,
            "flex": null,
            "_model_name": "LayoutModel",
            "justify_items": null,
            "grid_row": null,
            "max_height": null,
            "align_content": null,
            "visibility": null,
            "align_self": null,
            "height": null,
            "min_height": null,
            "padding": null,
            "grid_auto_rows": null,
            "grid_gap": null,
            "max_width": null,
            "order": null,
            "_view_module_version": "1.2.0",
            "grid_template_areas": null,
            "object_position": null,
            "object_fit": null,
            "grid_auto_columns": null,
            "margin": null,
            "display": null,
            "left": null
          }
        },
        "2ca397bbbb1148b1a46727ced3295dc3": {
          "model_module": "@jupyter-widgets/controls",
          "model_name": "FloatProgressModel",
          "state": {
            "_view_name": "ProgressView",
            "style": "IPY_MODEL_4fde06433ff04b6d86b36fbcb0c7005a",
            "_dom_classes": [],
            "description": "100%",
            "_model_name": "FloatProgressModel",
            "bar_style": "success",
            "max": 1683,
            "_view_module": "@jupyter-widgets/controls",
            "_model_module_version": "1.5.0",
            "value": 1683,
            "_view_count": null,
            "_view_module_version": "1.5.0",
            "orientation": "horizontal",
            "min": 0,
            "description_tooltip": null,
            "_model_module": "@jupyter-widgets/controls",
            "layout": "IPY_MODEL_6558f0b7092e4ef786e75f3879b0b23d"
          }
        },
        "e74b2242eb6646c3a4a1b2a7124f0406": {
          "model_module": "@jupyter-widgets/controls",
          "model_name": "HTMLModel",
          "state": {
            "_view_name": "HTMLView",
            "style": "IPY_MODEL_8726c4bfada349698551b3f0512b0670",
            "_dom_classes": [],
            "description": "",
            "_model_name": "HTMLModel",
            "placeholder": "​",
            "_view_module": "@jupyter-widgets/controls",
            "_model_module_version": "1.5.0",
            "value": " 1683/1683 [00:04&lt;00:00, 348.43it/s]",
            "_view_count": null,
            "_view_module_version": "1.5.0",
            "description_tooltip": null,
            "_model_module": "@jupyter-widgets/controls",
            "layout": "IPY_MODEL_dceec5a544fa42709d9313c3563f1e55"
          }
        },
        "4fde06433ff04b6d86b36fbcb0c7005a": {
          "model_module": "@jupyter-widgets/controls",
          "model_name": "ProgressStyleModel",
          "state": {
            "_view_name": "StyleView",
            "_model_name": "ProgressStyleModel",
            "description_width": "initial",
            "_view_module": "@jupyter-widgets/base",
            "_model_module_version": "1.5.0",
            "_view_count": null,
            "_view_module_version": "1.2.0",
            "bar_color": null,
            "_model_module": "@jupyter-widgets/controls"
          }
        },
        "6558f0b7092e4ef786e75f3879b0b23d": {
          "model_module": "@jupyter-widgets/base",
          "model_name": "LayoutModel",
          "state": {
            "_view_name": "LayoutView",
            "grid_template_rows": null,
            "right": null,
            "justify_content": null,
            "_view_module": "@jupyter-widgets/base",
            "overflow": null,
            "_model_module_version": "1.2.0",
            "_view_count": null,
            "flex_flow": null,
            "width": null,
            "min_width": null,
            "border": null,
            "align_items": null,
            "bottom": null,
            "_model_module": "@jupyter-widgets/base",
            "top": null,
            "grid_column": null,
            "overflow_y": null,
            "overflow_x": null,
            "grid_auto_flow": null,
            "grid_area": null,
            "grid_template_columns": null,
            "flex": null,
            "_model_name": "LayoutModel",
            "justify_items": null,
            "grid_row": null,
            "max_height": null,
            "align_content": null,
            "visibility": null,
            "align_self": null,
            "height": null,
            "min_height": null,
            "padding": null,
            "grid_auto_rows": null,
            "grid_gap": null,
            "max_width": null,
            "order": null,
            "_view_module_version": "1.2.0",
            "grid_template_areas": null,
            "object_position": null,
            "object_fit": null,
            "grid_auto_columns": null,
            "margin": null,
            "display": null,
            "left": null
          }
        },
        "8726c4bfada349698551b3f0512b0670": {
          "model_module": "@jupyter-widgets/controls",
          "model_name": "DescriptionStyleModel",
          "state": {
            "_view_name": "StyleView",
            "_model_name": "DescriptionStyleModel",
            "description_width": "",
            "_view_module": "@jupyter-widgets/base",
            "_model_module_version": "1.5.0",
            "_view_count": null,
            "_view_module_version": "1.2.0",
            "_model_module": "@jupyter-widgets/controls"
          }
        },
        "dceec5a544fa42709d9313c3563f1e55": {
          "model_module": "@jupyter-widgets/base",
          "model_name": "LayoutModel",
          "state": {
            "_view_name": "LayoutView",
            "grid_template_rows": null,
            "right": null,
            "justify_content": null,
            "_view_module": "@jupyter-widgets/base",
            "overflow": null,
            "_model_module_version": "1.2.0",
            "_view_count": null,
            "flex_flow": null,
            "width": null,
            "min_width": null,
            "border": null,
            "align_items": null,
            "bottom": null,
            "_model_module": "@jupyter-widgets/base",
            "top": null,
            "grid_column": null,
            "overflow_y": null,
            "overflow_x": null,
            "grid_auto_flow": null,
            "grid_area": null,
            "grid_template_columns": null,
            "flex": null,
            "_model_name": "LayoutModel",
            "justify_items": null,
            "grid_row": null,
            "max_height": null,
            "align_content": null,
            "visibility": null,
            "align_self": null,
            "height": null,
            "min_height": null,
            "padding": null,
            "grid_auto_rows": null,
            "grid_gap": null,
            "max_width": null,
            "order": null,
            "_view_module_version": "1.2.0",
            "grid_template_areas": null,
            "object_position": null,
            "object_fit": null,
            "grid_auto_columns": null,
            "margin": null,
            "display": null,
            "left": null
          }
        }
      }
    }
  },
  "cells": [
    {
      "cell_type": "code",
      "metadata": {
        "id": "GvgdWcg_RKtY"
      },
      "source": [
        "import os\n",
        "import re\n",
        "import glob, random\n",
        "import cv2\n",
        "import numpy as np\n",
        "from tqdm import tqdm_notebook\n",
        "import matplotlib.pyplot as plt"
      ],
      "execution_count": null,
      "outputs": []
    },
    {
      "cell_type": "code",
      "metadata": {
        "id": "6rGQWNwjR3SG",
        "colab": {
          "base_uri": "https://localhost:8080/"
        },
        "outputId": "aed0d6bd-7a29-47f3-edda-1f0a819b7580"
      },
      "source": [
        "from google.colab import drive\n",
        "drive.mount('/content/drive')\n",
        "\n",
        "vid_path = sorted(glob.glob('/content/drive/My Drive/lane_detection/videoplayback.mp4'))\n"
      ],
      "execution_count": null,
      "outputs": [
        {
          "output_type": "stream",
          "text": [
            "Drive already mounted at /content/drive; to attempt to forcibly remount, call drive.mount(\"/content/drive\", force_remount=True).\n"
          ],
          "name": "stdout"
        }
      ]
    },
    {
      "cell_type": "code",
      "metadata": {
        "id": "XFCi4m8GXJ_y"
      },
      "source": [
        "##read frames from a video and load them into col_images2\n",
        "\n",
        "myFrameNumber = 50\n",
        "cap = cv2.VideoCapture('/content/drive/My Drive/lane_detection/videoplayback.mp4')\n",
        "\n",
        "# get total number of frames\n",
        "totalFrames = cap.get(cv2.CAP_PROP_FRAME_COUNT)\n",
        "\n",
        "# check for valid frame number\n",
        "if myFrameNumber >= 0 & myFrameNumber <= totalFrames:\n",
        "    # set frame position\n",
        "    cap.set(cv2.CAP_PROP_POS_FRAMES,myFrameNumber)\n",
        "col_images2=[]\n",
        "while True:\n",
        "    ret, frame = cap.read()\n",
        "    # print(ret)\n",
        "    if (ret):\n",
        "      # frame = cv2.cvtColor(frame, cv2.COLOR_BGR2RGB)\n",
        "      # frame = cv2.cvtColor(frame,cv2.COLOR_BGR2GRAY)\n",
        "      frame = cv2.resize(frame, (128, 128))\n",
        "      col_images2.append(frame)\n",
        "      # plt.figure(figsize=(10,10))\n",
        "      # plt.imshow(frame[:,:,0], cmap= \"gray\")\n",
        "      # plt.show()\n",
        "    else:\n",
        "      break\n",
        "    if cv2.waitKey(20) & 0xFF == ord('q'):\n",
        "        break\n",
        "\n",
        "cv2.destroyAllWindows()"
      ],
      "execution_count": null,
      "outputs": []
    },
    {
      "cell_type": "code",
      "metadata": {
        "colab": {
          "base_uri": "https://localhost:8080/",
          "height": 116,
          "referenced_widgets": [
            "0e50248cbd5c4357b8f8d571b00ab7b8",
            "650f2bb431954fab960c6d3029a82825",
            "dc2955cafdc0450a908ad871601e0752",
            "d4f0e52ae93a4ec68266c1abc06f5767",
            "813da172901d403783d73a86ef59af47",
            "b73dd84d48634d7b8b39c5ab78888a3c",
            "8b5b5facfc9c4f0da7910ff1533a2d84",
            "5046603a51054539be5c26d3fe477dd1"
          ]
        },
        "id": "PfVZXC9kRQux",
        "outputId": "8a8d78f6-6824-4514-96a3-c1d8dc1a5bbb"
      },
      "source": [
        "# reading frames from a folder of frames images and load them into col_images2\n",
        "col_frames = os.listdir('/content/drive/My Drive/lane_detection/frames/')\n",
        "col_frames.sort(key=lambda f: int(re.sub('\\D', '', f)))\n",
        "\n",
        "# load frames\n",
        "col_images2=[]\n",
        "for i in tqdm_notebook(col_frames):\n",
        "    img = cv2.imread('/content/drive/My Drive/lane_detection/frames/'+i)\n",
        "    col_images2.append(img)"
      ],
      "execution_count": null,
      "outputs": [
        {
          "output_type": "stream",
          "text": [
            "/usr/local/lib/python3.6/dist-packages/ipykernel_launcher.py:7: TqdmDeprecationWarning: This function will be removed in tqdm==5.0.0\n",
            "Please use `tqdm.notebook.tqdm` instead of `tqdm.tqdm_notebook`\n",
            "  import sys\n"
          ],
          "name": "stderr"
        },
        {
          "output_type": "display_data",
          "data": {
            "application/vnd.jupyter.widget-view+json": {
              "model_id": "0e50248cbd5c4357b8f8d571b00ab7b8",
              "version_minor": 0,
              "version_major": 2
            },
            "text/plain": [
              "HBox(children=(FloatProgress(value=0.0, max=1108.0), HTML(value='')))"
            ]
          },
          "metadata": {
            "tags": []
          }
        },
        {
          "output_type": "stream",
          "text": [
            "\n"
          ],
          "name": "stdout"
        }
      ]
    },
    {
      "cell_type": "code",
      "metadata": {
        "colab": {
          "base_uri": "https://localhost:8080/",
          "height": 593
        },
        "id": "eI4uDRbhR1xG",
        "outputId": "43af289b-d0b4-42e4-e0b9-af65b83988ad"
      },
      "source": [
        "# specify frame index to view and test on\n",
        "idx = 457\n",
        "\n",
        "# plot frame\n",
        "plt.figure(figsize=(10,10))\n",
        "plt.imshow(col_images2[idx][:,:])\n",
        "plt.show()"
      ],
      "execution_count": null,
      "outputs": [
        {
          "output_type": "display_data",
          "data": {
            "image/png": "[encoded data removed]",
            "text/plain": [
              "<Figure size 720x720 with 1 Axes>"
            ]
          },
          "metadata": {
            "tags": [],
            "needs_background": "light"
          }
        }
      ]
    },
    {
      "cell_type": "code",
      "metadata": {
        "colab": {
          "base_uri": "https://localhost:8080/"
        },
        "id": "Yn21G9Leak9s",
        "outputId": "7c500861-196b-4870-ca98-829a6cdda266"
      },
      "source": [
        "##defining region of interest\n",
        "\n",
        "\n",
        "# create a zero array\n",
        "stencil = np.zeros_like(col_images2[idx][:,:,0])\n",
        "\n",
        "# specify coordinates of the polygon\n",
        "polygon = np.array([[50,270], [220,160], [440,160], [550,270]])\n",
        "polygon = np.array([[10,110],  [45,65], [95,60],[110,110]])\n",
        "\n",
        "# fill polygon with ones\n",
        "cv2.fillConvexPoly(stencil, polygon, 1)"
      ],
      "execution_count": null,
      "outputs": [
        {
          "output_type": "execute_result",
          "data": {
            "text/plain": [
              "array([[0, 0, 0, ..., 0, 0, 0],\n",
              "       [0, 0, 0, ..., 0, 0, 0],\n",
              "       [0, 0, 0, ..., 0, 0, 0],\n",
              "       ...,\n",
              "       [0, 0, 0, ..., 0, 0, 0],\n",
              "       [0, 0, 0, ..., 0, 0, 0],\n",
              "       [0, 0, 0, ..., 0, 0, 0]], dtype=uint8)"
            ]
          },
          "metadata": {
            "tags": []
          },
          "execution_count": 4
        }
      ]
    },
    {
      "cell_type": "code",
      "metadata": {
        "colab": {
          "base_uri": "https://localhost:8080/",
          "height": 610
        },
        "id": "EXjV8ZoyamC5",
        "outputId": "7f26ed84-afc2-44b0-bd19-f4307916f4cc"
      },
      "source": [
        "\n",
        "# plot polygon\n",
        "plt.figure(figsize=(10,10))\n",
        "plt.imshow(stencil, cmap= \"gray\")\n",
        "print(stencil.shape)\n",
        "plt.show()"
      ],
      "execution_count": null,
      "outputs": [
        {
          "output_type": "stream",
          "text": [
            "(128, 128)\n"
          ],
          "name": "stdout"
        },
        {
          "output_type": "display_data",
          "data": {
            "image/png": "[encoded data removed]",
            "text/plain": [
              "<Figure size 720x720 with 1 Axes>"
            ]
          },
          "metadata": {
            "tags": [],
            "needs_background": "light"
          }
        }
      ]
    },
    {
      "cell_type": "code",
      "metadata": {
        "id": "Mcnk-_Bxaq3b",
        "colab": {
          "base_uri": "https://localhost:8080/",
          "height": 593
        },
        "outputId": "8c4daf53-c042-4bd7-aa3d-25e11624347c"
      },
      "source": [
        "\n",
        "\n",
        "# apply image thresholding\n",
        "img = col_images2[1292][:,:,0]\n",
        "thresh = cv2.adaptiveThreshold(img, 200, cv2.ADAPTIVE_THRESH_GAUSSIAN_C, cv2.THRESH_BINARY_INV, 7, 5)\n",
        "## using cv2.ADAPTIVE_THRESH_GAUSSIAN_C to find relative changes in colour within each region regardless of general brightness of the image \n",
        "\n",
        "\n",
        "# plot image\n",
        "thresh = cv2.bitwise_and(thresh, thresh, mask=stencil)\n",
        "\n",
        "plt.figure(figsize=(10,10))\n",
        "plt.imshow(thresh, cmap= \"gray\")\n",
        "plt.show()"
      ],
      "execution_count": null,
      "outputs": [
        {
          "output_type": "display_data",
          "data": {
            "image/png": "[encoded data removed]",
            "text/plain": [
              "<Figure size 720x720 with 1 Axes>"
            ]
          },
          "metadata": {
            "tags": [],
            "needs_background": "light"
          }
        }
      ]
    },
    {
      "cell_type": "code",
      "metadata": {
        "id": "VEG22xmtavzU",
        "colab": {
          "base_uri": "https://localhost:8080/",
          "height": 818
        },
        "outputId": "3b47eb67-1412-4918-aec3-37ab2e554e7a"
      },
      "source": [
        "\n",
        "lines = cv2.HoughLinesP(thresh, 1, np.pi/180, 30, maxLineGap=200)\n",
        "\n",
        "# create a copy of the original frame\n",
        "dmy = col_images2[98][:,:].copy()\n",
        "print (lines)\n",
        "# draw all Hough lines\n",
        "for line in lines:\n",
        "  x1, y1, x2, y2 = line[0]\n",
        "  cv2.line(dmy, (x1, y1), (x2, y2), (255, 0, 0), 3)\n",
        "\n",
        "\n",
        "##draw first generated line on each side that does not appear horizontal\n",
        "##okay results\n",
        "# drawn_slopes=[]\n",
        "# # draw Hough lines\n",
        "# for line in lines:\n",
        "#   draw=True\n",
        "#   x1, y1, x2, y2 = line[0]\n",
        "#   line_slope = (y2-y1)/(x2-x1)\n",
        "#   print(line_slope)\n",
        "#   for s in drawn_slopes:\n",
        "#       if ((s>0 and line_slope>0) or (s<0 and line_slope<0)):\n",
        "#         print(\"too close\")\n",
        "#         draw=False\n",
        "#   if abs(line_slope) >= 0.3 and draw:\n",
        "#     cv2.line(dmy, (x1, y1), (x2, y2), (255, 0, 0), 3)\n",
        "#     drawn_slopes.append(line_slope)\n",
        "\n",
        "##draw line with biggest slope on each side\n",
        "##not very good results specially with a wide area of interest\n",
        "# left_lane=[0, 0, 1, 0]\n",
        "# right_lane=[0, 0, 1, 0]\n",
        "# for line in lines:\n",
        "#   x1, y1, x2, y2 = line[0]\n",
        "#   left_slope=(left_lane[3]-left_lane[1])/(left_lane[2]-left_lane[0])\n",
        "#   right_slope=(right_lane[3]-right_lane[1])/(right_lane[2]-right_lane[0])\n",
        "#   line_slope = (y2-y1)/(x2-x1)\n",
        "#   if line_slope>=0:\n",
        "#     if abs(line_slope)>abs(left_slope):\n",
        "#       left_lane=line[0]\n",
        "#   else:\n",
        "#     if abs(line_slope)>abs(right_slope):\n",
        "#       right_lane=line[0]\n",
        "\n",
        "# cv2.line(dmy, (left_lane[0], left_lane[1]), (left_lane[2], left_lane[3]), (255, 0, 0), 3)\n",
        "# cv2.line(dmy, (right_lane[0], right_lane[1]), (right_lane[2], right_lane[3]), (255, 0, 0), 3)\n",
        "\n",
        "\n",
        "# plot frame\n",
        "plt.figure(figsize=(10,10))\n",
        "plt.imshow(dmy, cmap= \"gray\")\n",
        "plt.show()"
      ],
      "execution_count": null,
      "outputs": [
        {
          "output_type": "stream",
          "text": [
            "[[[ 85  61 108 110]]\n",
            "\n",
            " [[ 15 110  54  68]]\n",
            "\n",
            " [[ 84  67 103 110]]\n",
            "\n",
            " [[ 15 103  49  72]]\n",
            "\n",
            " [[ 85  73 102 110]]\n",
            "\n",
            " [[ 84  61 105 106]]\n",
            "\n",
            " [[ 87  62 109 110]]]\n"
          ],
          "name": "stdout"
        },
        {
          "output_type": "display_data",
          "data": {
            "image/png": "[encoded data removed]",
            "text/plain": [
              "<Figure size 720x720 with 1 Axes>"
            ]
          },
          "metadata": {
            "tags": [],
            "needs_background": "light"
          }
        }
      ]
    },
    {
      "cell_type": "code",
      "metadata": {
        "id": "VbiUXwL66nTE",
        "colab": {
          "base_uri": "https://localhost:8080/",
          "height": 852
        },
        "outputId": "7aceb316-900f-42a5-a4cc-ce0fd684e379"
      },
      "source": [
        "\n",
        "lines = cv2.HoughLinesP(thresh, 1, np.pi/180, 30, maxLineGap=200)\n",
        "\n",
        "# create a copy of the original frame\n",
        "dmy = col_images2[98][:,:].copy()\n",
        "print (lines)\n",
        "# draw Hough lines\n",
        "def slope(lin):\n",
        "  x1, y1, x2, y2 = lin[0]\n",
        "  line_slope = (y2-y1)/(x2-x1)\n",
        "  return line_slope\n",
        "\n",
        "#create an a array for left side and an array for right side of the lane (based on slope positive or negative)\n",
        "pos_lines=[]\n",
        "neg_lines=[]\n",
        "lines_to_draw=[]\n",
        "\n",
        "#divide nonhorizontal lines into positive or negative\n",
        "for line in lines:\n",
        "  x1, y1, x2, y2 = line[0]\n",
        "  line_slope=slope(line)\n",
        "  if abs(line_slope)>=0.3:\n",
        "    if line_slope>0:\n",
        "      pos_lines.append(line[0])\n",
        "    else:\n",
        "      neg_lines.append(line[0])\n",
        "\n",
        "# a function to calculate mean coordinates for each side of the lane and return average line\n",
        "def get_mean_line(line_set):\n",
        "  res=[0,0,0,0]\n",
        "  if len(line_set)>0:\n",
        "    for lin in line_set:\n",
        "      res[0]+=lin[0]\n",
        "      res[1]+=lin[1]\n",
        "      res[2]+=lin[2]\n",
        "      res[3]+=lin[3]\n",
        "    for i in range(0,4):\n",
        "      res[i]=int(res[i]/len(line_set))\n",
        "\n",
        "  return res\n",
        "    \n",
        "\n",
        "print(get_mean_line(neg_lines))\n",
        "print(get_mean_line(pos_lines))\n",
        "\n",
        "px1, py1, px2, py2 = get_mean_line(pos_lines)\n",
        "nx1, ny1, nx2, ny2 = get_mean_line(neg_lines)\n",
        "\n",
        "#draw left and right borders\n",
        "cv2.line(dmy, (px1, py1), (px2, py2), (255, 0, 0), 3)\n",
        "cv2.line(dmy, (nx1, ny1), (nx2, ny2), (255, 0, 0), 3)\n",
        "\n",
        "plt.figure(figsize=(10,10))\n",
        "plt.imshow(dmy, cmap= \"gray\")\n",
        "plt.show()"
      ],
      "execution_count": null,
      "outputs": [
        {
          "output_type": "stream",
          "text": [
            "[[[ 85  61 108 110]]\n",
            "\n",
            " [[ 15 110  54  68]]\n",
            "\n",
            " [[ 84  67 103 110]]\n",
            "\n",
            " [[ 15 103  49  72]]\n",
            "\n",
            " [[ 85  73 102 110]]\n",
            "\n",
            " [[ 84  61 105 106]]\n",
            "\n",
            " [[ 87  62 109 110]]]\n",
            "[15, 106, 51, 70]\n",
            "[85, 64, 105, 109]\n"
          ],
          "name": "stdout"
        },
        {
          "output_type": "display_data",
          "data": {
            "image/png": "[encoded data removed]",
            "text/plain": [
              "<Figure size 720x720 with 1 Axes>"
            ]
          },
          "metadata": {
            "tags": [],
            "needs_background": "light"
          }
        }
      ]
    },
    {
      "cell_type": "markdown",
      "metadata": {
        "id": "g1C7ryPwlsC9"
      },
      "source": [
        "generating houghlines based on the first valid line generated"
      ]
    },
    {
      "cell_type": "code",
      "metadata": {
        "id": "2oiSB01TbAHw",
        "colab": {
          "base_uri": "https://localhost:8080/",
          "height": 345,
          "referenced_widgets": [
            "5c88b1f4013342f9a77a0b827b8afa7b",
            "98db36d5b91643ca989d9e2c05a873c8",
            "1542bae9688d464b95290a56b8d66116",
            "171fed7d34df40ce9a97c9b2e954fdc8",
            "25a829378e95471a8ddb8f78391babc3",
            "f32cfbdb0ec74081999afec512c3e89e",
            "1166e0f6ba854c5e87856289ab3ba102",
            "5b72fa3dcff34d4f993d53d2cbc5ec89"
          ]
        },
        "outputId": "3ddb0491-502c-42bc-d638-b1f008f01bcb"
      },
      "source": [
        "\n",
        "cnt = 0\n",
        "\n",
        "for img in tqdm_notebook(col_images2):\n",
        " \n",
        "  # apply image thresholding\n",
        "  # ret, thresh = cv2.threshold(masked, 170, 255, cv2.THRESH_BINARY)\n",
        "  thresh = cv2.adaptiveThreshold(img[:,:,0], 255, cv2.ADAPTIVE_THRESH_GAUSSIAN_C, \n",
        "                                          cv2.THRESH_BINARY_INV, 11, 5) \n",
        "   # apply frame mask\n",
        "  masked = cv2.bitwise_and(thresh, thresh, mask=stencil)\n",
        "  \n",
        "  # apply Hough Line Transformation\n",
        "  lines = cv2.HoughLinesP(masked, 1, np.pi/180, 30, maxLineGap=200)\n",
        "  dmy = img.copy()\n",
        "  \n",
        "  # Plot detected lines\n",
        "  try:\n",
        "    drawn_slopes=[]\n",
        "# # draw Hough lines\n",
        "#     for line in lines:\n",
        "#       draw=True\n",
        "#       x1, y1, x2, y2 = line[0]\n",
        "#       line_slope = (y2-y1)/(x2-x1)\n",
        "#       for s in drawn_slopes:\n",
        "#         if (line_slope+0.09>s and line_slope-0.09<s and ((s>0 and line_slope>0) or (s<0 and line_slope<0))):\n",
        "#           draw=False\n",
        "#       if abs(line_slope) >= 0.3 and draw:\n",
        "#         cv2.line(dmy, (x1, y1), (x2, y2), (255, 0, 0), 3)\n",
        "#         drawn_slopes.append(line_slope)\n",
        "    left_lane=[0, 0, 1, 0]\n",
        "    right_lane=[0, 0, 1, 0]\n",
        "    for line in lines:\n",
        "      x1, y1, x2, y2 = line[0]\n",
        "      left_slope=(left_lane[3]-left_lane[1])/(left_lane[2]-left_lane[0])\n",
        "      right_slope=(right_lane[3]-right_lane[1])/(right_lane[2]-right_lane[0])\n",
        "      line_slope = (y2-y1)/(x2-x1)\n",
        "      if line_slope>=0:\n",
        "        if abs(line_slope)>abs(left_slope):\n",
        "          left_lane=line[0]\n",
        "      else:\n",
        "        if abs(line_slope)>abs(right_slope):\n",
        "          right_lane=line[0]\n",
        "\n",
        "    cv2.line(dmy, (left_lane[0], left_lane[1]), (left_lane[2], left_lane[3]), (255, 0, 0), 3)\n",
        "    cv2.line(dmy, (right_lane[0], right_lane[1]), (right_lane[2], right_lane[3]), (255, 0, 0), 3)   \n",
        "        \n",
        "  \n",
        "    cv2.imwrite('/content/drive/My Drive/lane_detection/detected_test_method3/'+str(cnt)+'.png',dmy)\n",
        "  \n",
        "  except TypeError: \n",
        "    cv2.imwrite('/content/drive/My Drive/lane_detection/detected_test_method3/'+str(cnt)+'.png',img)\n",
        "\n",
        "  cnt+= 1"
      ],
      "execution_count": null,
      "outputs": [
        {
          "output_type": "stream",
          "text": [
            "/usr/local/lib/python3.6/dist-packages/ipykernel_launcher.py:4: TqdmDeprecationWarning: This function will be removed in tqdm==5.0.0\n",
            "Please use `tqdm.notebook.tqdm` instead of `tqdm.tqdm_notebook`\n",
            "  after removing the cwd from sys.path.\n"
          ],
          "name": "stderr"
        },
        {
          "output_type": "display_data",
          "data": {
            "application/vnd.jupyter.widget-view+json": {
              "model_id": "5c88b1f4013342f9a77a0b827b8afa7b",
              "version_minor": 0,
              "version_major": 2
            },
            "text/plain": [
              "HBox(children=(FloatProgress(value=0.0, max=1683.0), HTML(value='')))"
            ]
          },
          "metadata": {
            "tags": []
          }
        },
        {
          "output_type": "stream",
          "text": [
            "/usr/local/lib/python3.6/dist-packages/ipykernel_launcher.py:37: RuntimeWarning: divide by zero encountered in int_scalars\n",
            "/usr/local/lib/python3.6/dist-packages/ipykernel_launcher.py:36: RuntimeWarning: divide by zero encountered in int_scalars\n"
          ],
          "name": "stderr"
        },
        {
          "output_type": "error",
          "ename": "KeyboardInterrupt",
          "evalue": "ignored",
          "traceback": [
            "\u001b[0;31m---------------------------------------------------------------------------\u001b[0m",
            "\u001b[0;31mKeyboardInterrupt\u001b[0m                         Traceback (most recent call last)",
            "\u001b[0;32m<ipython-input-21-cbcf5f42a146>\u001b[0m in \u001b[0;36m<module>\u001b[0;34m()\u001b[0m\n\u001b[1;32m     47\u001b[0m \u001b[0;34m\u001b[0m\u001b[0m\n\u001b[1;32m     48\u001b[0m \u001b[0;34m\u001b[0m\u001b[0m\n\u001b[0;32m---> 49\u001b[0;31m     \u001b[0mcv2\u001b[0m\u001b[0;34m.\u001b[0m\u001b[0mimwrite\u001b[0m\u001b[0;34m(\u001b[0m\u001b[0;34m'/content/drive/My Drive/lane_detection/detected_test_method3/'\u001b[0m\u001b[0;34m+\u001b[0m\u001b[0mstr\u001b[0m\u001b[0;34m(\u001b[0m\u001b[0mcnt\u001b[0m\u001b[0;34m)\u001b[0m\u001b[0;34m+\u001b[0m\u001b[0;34m'.png'\u001b[0m\u001b[0;34m,\u001b[0m\u001b[0mdmy\u001b[0m\u001b[0;34m)\u001b[0m\u001b[0;34m\u001b[0m\u001b[0;34m\u001b[0m\u001b[0m\n\u001b[0m\u001b[1;32m     50\u001b[0m \u001b[0;34m\u001b[0m\u001b[0m\n\u001b[1;32m     51\u001b[0m   \u001b[0;32mexcept\u001b[0m \u001b[0mTypeError\u001b[0m\u001b[0;34m:\u001b[0m\u001b[0;34m\u001b[0m\u001b[0;34m\u001b[0m\u001b[0m\n",
            "\u001b[0;31mKeyboardInterrupt\u001b[0m: "
          ]
        }
      ]
    },
    {
      "cell_type": "markdown",
      "metadata": {
        "id": "rHe_qzCslNM9"
      },
      "source": [
        "generating houghlines for all frames using averaging method"
      ]
    },
    {
      "cell_type": "code",
      "metadata": {
        "colab": {
          "base_uri": "https://localhost:8080/",
          "height": 116,
          "referenced_widgets": [
            "abeae4a723684025978cffc4de648bea",
            "8922b5bccf224ea78505903c7a62cbcb",
            "3a81001e89b34e148b4b60cc7af9eeba",
            "283224142ca347d8b57cbfdd38f0a846",
            "64ad30382ded4ee5a34f6d98bbc4c9b7",
            "f52a6e5077614104ab5bdffb4f4146bc",
            "fcb4117d7864430ab7e4f569b168dc3c",
            "744161c7cd9a4f92b61e82dafacfb136"
          ]
        },
        "id": "8EbYjtzIgLRp",
        "outputId": "c25cff6f-86a2-4222-b744-8abdbb42e853"
      },
      "source": [
        "\n",
        "cnt = 0\n",
        "\n",
        "for img in tqdm_notebook(col_images2):\n",
        " \n",
        "  # apply image thresholding\n",
        "  # ret, thresh = cv2.threshold(masked, 170, 255, cv2.THRESH_BINARY)\n",
        "  thresh = cv2.adaptiveThreshold(img[:,:,0], 255, cv2.ADAPTIVE_THRESH_GAUSSIAN_C, \n",
        "                                          cv2.THRESH_BINARY_INV, 7, 5) \n",
        "   # apply frame mask\n",
        "  masked = cv2.bitwise_and(thresh, thresh, mask=stencil)\n",
        "  \n",
        "  # apply Hough Line Transformation\n",
        "  lines = cv2.HoughLinesP(masked, 1, np.pi/180, 30, maxLineGap=200)\n",
        "  dmy = img.copy()\n",
        "  \n",
        "  ##below line used to generate frames with only border drawn  (commment previous line)\n",
        "  # dmy = np.zeros(shape=[128, 128, 1], dtype=np.uint8)\n",
        "\n",
        "\n",
        "  # Plot detected lines\n",
        "  try:\n",
        "    \n",
        "    pos_lines=[]\n",
        "    neg_lines=[]\n",
        "    lines_to_draw=[]\n",
        "    for line in lines:\n",
        "      x1, y1, x2, y2 = line[0]\n",
        "      line_slope=slope(line)\n",
        "      if abs(line_slope)>=0.3:\n",
        "        if line_slope>0:\n",
        "          pos_lines.append(line[0])\n",
        "        else:\n",
        "          neg_lines.append(line[0])\n",
        "\n",
        "    \n",
        "\n",
        "    px1, py1, px2, py2 = get_mean_line(pos_lines)\n",
        "    nx1, ny1, nx2, ny2 = get_mean_line(neg_lines)\n",
        "\n",
        "    cv2.line(dmy, (px1, py1), (px2, py2), (255, 0, 0), 3)\n",
        "    cv2.line(dmy, (nx1, ny1), (nx2, ny2), (255, 0, 0), 3)\n",
        "\n",
        "  \n",
        "    cv2.imwrite('/content/drive/My Drive/lane_detection/detected_test_averageing_resized_blank/'+str(cnt)+'.png',dmy)\n",
        "  \n",
        "  except TypeError: \n",
        "    cv2.imwrite('/content/drive/My Drive/lane_detection/detected_test_averageing_resized_blank/'+str(cnt)+'.png',img)\n",
        "\n",
        "  cnt+= 1"
      ],
      "execution_count": null,
      "outputs": [
        {
          "output_type": "stream",
          "text": [
            "/usr/local/lib/python3.6/dist-packages/ipykernel_launcher.py:4: TqdmDeprecationWarning: This function will be removed in tqdm==5.0.0\n",
            "Please use `tqdm.notebook.tqdm` instead of `tqdm.tqdm_notebook`\n",
            "  after removing the cwd from sys.path.\n"
          ],
          "name": "stderr"
        },
        {
          "output_type": "display_data",
          "data": {
            "application/vnd.jupyter.widget-view+json": {
              "model_id": "abeae4a723684025978cffc4de648bea",
              "version_minor": 0,
              "version_major": 2
            },
            "text/plain": [
              "HBox(children=(FloatProgress(value=0.0, max=1683.0), HTML(value='')))"
            ]
          },
          "metadata": {
            "tags": []
          }
        },
        {
          "output_type": "stream",
          "text": [
            "\n"
          ],
          "name": "stdout"
        }
      ]
    },
    {
      "cell_type": "markdown",
      "metadata": {
        "id": "1u1iFjurkqHV"
      },
      "source": [
        "**converting generated frames to video**"
      ]
    },
    {
      "cell_type": "code",
      "metadata": {
        "id": "xqho16qebHu0",
        "colab": {
          "base_uri": "https://localhost:8080/",
          "height": 675,
          "referenced_widgets": [
            "c9137bda8fd148cd853d7bcc29583da0",
            "76440db19a324e68af5fe72a6280887e",
            "2ca397bbbb1148b1a46727ced3295dc3",
            "e74b2242eb6646c3a4a1b2a7124f0406",
            "4fde06433ff04b6d86b36fbcb0c7005a",
            "6558f0b7092e4ef786e75f3879b0b23d",
            "8726c4bfada349698551b3f0512b0670",
            "dceec5a544fa42709d9313c3563f1e55"
          ]
        },
        "outputId": "32cbbff8-848f-45ad-cacf-269a201d0996"
      },
      "source": [
        "\n",
        "# input frames path\n",
        "pathIn= '/content/drive/My Drive/lane_detection/detected_test_averageing_resized_blank/'\n",
        "\n",
        "# output path to save the video\n",
        "pathOut = '/content/drive/My Drive/lane_detection/roads_test_averaging_resized_blank.mp4'\n",
        "\n",
        "# specify frames per second\n",
        "fps = 30.0\n",
        "\n",
        "\n",
        "from os.path import isfile, join\n",
        "\n",
        "# get file names of the frames\n",
        "files = [f for f in os.listdir(pathIn) if isfile(join(pathIn, f))]\n",
        "files.sort(key=lambda f: int(re.sub('\\D', '', f)))\n",
        "\n",
        "frame_list = []\n",
        "\n",
        "for i in tqdm_notebook(range(len(files))):\n",
        "    filename=pathIn + files[i]\n",
        "    #reading each files\n",
        "    img = cv2.imread(filename)\n",
        "    height, width, layers = img.shape\n",
        "    size = (width,height)\n",
        "    \n",
        "    #inserting the frames into an image array\n",
        "    frame_list.append(img)\n",
        "\n",
        "plt.figure(figsize=(10,10))\n",
        "plt.imshow(frame_list[0], cmap= \"gray\")\n",
        "plt.show()    \n",
        "# write the video\n",
        "out = cv2.VideoWriter(pathOut,cv2.VideoWriter_fourcc(*'DIVX'), fps, size)\n",
        "\n",
        "for i in range(len(frame_list)):\n",
        "    # writing to a image array\n",
        "    out.write(frame_list[i])\n",
        "\n",
        "out.release()"
      ],
      "execution_count": null,
      "outputs": [
        {
          "output_type": "stream",
          "text": [
            "/usr/local/lib/python3.6/dist-packages/ipykernel_launcher.py:20: TqdmDeprecationWarning: This function will be removed in tqdm==5.0.0\n",
            "Please use `tqdm.notebook.tqdm` instead of `tqdm.tqdm_notebook`\n"
          ],
          "name": "stderr"
        },
        {
          "output_type": "display_data",
          "data": {
            "application/vnd.jupyter.widget-view+json": {
              "model_id": "c9137bda8fd148cd853d7bcc29583da0",
              "version_minor": 0,
              "version_major": 2
            },
            "text/plain": [
              "HBox(children=(FloatProgress(value=0.0, max=1683.0), HTML(value='')))"
            ]
          },
          "metadata": {
            "tags": []
          }
        },
        {
          "output_type": "stream",
          "text": [
            "\n"
          ],
          "name": "stdout"
        },
        {
          "output_type": "display_data",
          "data": {
            "image/png": "[encoded data removed]",
            "text/plain": [
              "<Figure size 720x720 with 1 Axes>"
            ]
          },
          "metadata": {
            "tags": [],
            "needs_background": "light"
          }
        }
      ]
    },
    {
      "cell_type": "markdown",
      "metadata": {
        "id": "HD2VAKnk0nyI"
      },
      "source": [
        "refs:\n",
        "\n",
        "https://www.analyticsvidhya.com/blog/2020/05/tutorial-real-time-lane-detection-opencv/\n",
        "\n",
        "https://www.geeksforgeeks.org/python-thresholding-techniques-using-opencv-set-2-adaptive-thresholding/#:~:text=Adaptive%20thresholding%20is%20the%20method%20where%20the%20threshold,Syntax%3A%20cv2.adaptiveThreshold%20%28source%2C%20maxVal%2C%20adaptiveMethod%2C%20thresholdType%2C%20blocksize%2C%20constant%29\n"
      ]
    }
  ]
}